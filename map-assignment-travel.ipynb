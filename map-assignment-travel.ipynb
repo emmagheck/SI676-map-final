{
 "cells": [
  {
   "cell_type": "markdown",
   "id": "00a281bf-4fb1-4bb2-b01f-d4f1c523e905",
   "metadata": {},
   "source": [
    "# Metadata Application Profile Assignment"
   ]
  },
  {
   "cell_type": "code",
   "execution_count": 1,
   "id": "fd81df05-072c-47cd-b4dc-b3abdbaa8400",
   "metadata": {},
   "outputs": [],
   "source": [
    "import csv\n",
    "import json\n",
    "import requests\n",
    "\n",
    "# for later, when working with local files\n",
    "import glob\n",
    "import os\n",
    "from os.path import join"
   ]
  },
  {
   "cell_type": "code",
   "execution_count": 2,
   "id": "fc347104-09d2-4775-8a40-bcccf62488da",
   "metadata": {},
   "outputs": [],
   "source": [
    "endpoint = 'https://www.loc.gov/free-to-use'\n",
    "parameters = {\n",
    "    'fo' : 'json'\n",
    "}"
   ]
  },
  {
   "cell_type": "code",
   "execution_count": 3,
   "id": "782bf143-ead3-4b6c-a5e4-fe716fa6ca29",
   "metadata": {},
   "outputs": [],
   "source": [
    "collection = 'travel-posters'"
   ]
  },
  {
   "cell_type": "code",
   "execution_count": 4,
   "id": "3f80d186-dae5-4e58-a477-522d2daa3879",
   "metadata": {},
   "outputs": [],
   "source": [
    "collection_list_response = requests.get(endpoint + '/' + collection, params=parameters)"
   ]
  },
  {
   "cell_type": "code",
   "execution_count": 5,
   "id": "818bdf3e-21eb-4cbb-b0c8-cc19b96642b7",
   "metadata": {},
   "outputs": [
    {
     "data": {
      "text/plain": [
       "'https://www.loc.gov/free-to-use/travel-posters?fo=json'"
      ]
     },
     "execution_count": 5,
     "metadata": {},
     "output_type": "execute_result"
    }
   ],
   "source": [
    "collection_list_response.url"
   ]
  },
  {
   "cell_type": "code",
   "execution_count": 6,
   "id": "085b1467-c97a-4dac-9a8d-e79482d2e892",
   "metadata": {},
   "outputs": [],
   "source": [
    "collection_json = collection_list_response.json()"
   ]
  },
  {
   "cell_type": "code",
   "execution_count": 7,
   "id": "02b66184",
   "metadata": {},
   "outputs": [
    {
     "data": {
      "text/plain": [
       "dict_keys(['breadcrumbs', 'content', 'content_is_post', 'description', 'expert_resources', 'next', 'next_sibling', 'options', 'pages', 'portal', 'previous', 'previous_sibling', 'site_type', 'timestamp', 'title', 'type'])"
      ]
     },
     "execution_count": 7,
     "metadata": {},
     "output_type": "execute_result"
    }
   ],
   "source": [
    "# .keys() is a helpful function to see what the data elements are\n",
    "collection_json.keys()"
   ]
  },
  {
   "cell_type": "code",
   "execution_count": 8,
   "id": "c92bbacc-7cf8-47e7-9e2e-88542eaf9d8b",
   "metadata": {
    "collapsed": true,
    "jupyter": {
     "outputs_hidden": true
    },
    "tags": []
   },
   "outputs": [
    {
     "name": "stdout",
     "output_type": "stream",
     "text": [
      "{'image': '/static/portals/free-to-use/public-domain/travel-posters/13399u.jpg', 'link': '/resource/ppmsca.13399/', 'title': 'Yellowstone National Park, Ranger Naturalist Service'}\n",
      "{'image': '/static/portals/free-to-use/public-domain/travel-posters/06845u.jpg', 'link': '/resource/ds.06845/', 'title': 'Fly TWA New York / David.'}\n",
      "{'image': '/static/portals/free-to-use/public-domain/travel-posters/13397u.jpg', 'link': '/resource/ppmsca.13397/', 'title': 'Grand Canyon National Park'}\n",
      "{'image': '/static/portals/free-to-use/public-domain/travel-posters/3g05158u.jpg', 'link': '/resource/cph.3g05158/', 'title': \"Buckingham Fountain on Chicago's lake front, world's largest and most beautiful illuminated fountain\"}\n",
      "{'image': '/static/portals/free-to-use/public-domain/travel-posters/13396u.jpg', 'link': '/resource/ppmsca.13396/', 'title': 'Fort Marion National Monument, St. Augustine, Florida'}\n",
      "{'image': '/static/portals/free-to-use/public-domain/travel-posters/3b48750u.jpg', 'link': '/resource/cph.3b48750/', 'title': 'See America Welcome to Montana'}\n",
      "{'image': '/static/portals/free-to-use/public-domain/travel-posters/3b48864u.jpg', 'link': '/resource/cph.3b48864/', 'title': 'A guide to the golden state from the past to the present California history and culture, tours and trails'}\n",
      "{'image': '/static/portals/free-to-use/public-domain/travel-posters/3b48718u.jpg', 'link': '/resource/cph.3b48718/', 'title': 'Illinois: A descriptive and historical guide'}\n",
      "{'image': '/static/portals/free-to-use/public-domain/travel-posters/3b48860u.jpg', 'link': '/resource/cph.3b48860/', 'title': \"When attending the World's Fair, visit beautiful Sea Cliff 250 ft. altitude\"}\n",
      "{'image': '/static/portals/free-to-use/public-domain/travel-posters/3b49082u.jpg', 'link': '/resource/cph.3b49082/', 'title': 'Visit Pennsylvania Where pre-revolutionary costumes still survive'}\n",
      "{'image': '/static/portals/free-to-use/public-domain/travel-posters/3b48733u.jpg', 'link': '/resource/cph.3b48733/', 'title': 'See America Visit the national parks.'}\n",
      "{'image': '/static/portals/free-to-use/public-domain/travel-posters/43496u.jpg', 'link': '/resource/ppmsca.43496/', 'title': 'Bermuda'}\n",
      "{'image': '/static/portals/free-to-use/public-domain/travel-posters/3b48731u.jpg', 'link': '/resource/cph.3b48731/', 'title': 'See America / Frank S. Nicholson.'}\n",
      "{'image': '/static/portals/free-to-use/public-domain/travel-posters/08068u.jpg', 'link': '/resource/ds.08068/', 'title': 'Discover Puerto Rico U.S.A. Where the Americas meet.'}\n",
      "{'image': '/static/portals/free-to-use/public-domain/travel-posters/3f05643u.jpg', 'link': '/resource/cph.3f05643/', 'title': 'Discover Puerto Rico U.S.A. Where the Americas meet.'}\n",
      "{'image': '/static/portals/free-to-use/public-domain/travel-posters/3b51486u.jpg', 'link': '/resource/cph.3b51486/', 'title': 'Rural Pennsylvania / Katherine Milhous.'}\n",
      "{'image': '/static/portals/free-to-use/public-domain/travel-posters/3g02947u.jpg', 'link': '/resource/cph.3g02947/', 'title': 'West Point, United States Military Academy'}\n",
      "{'image': '/static/portals/free-to-use/public-domain/travel-posters/13398u.jpg', 'link': '/resource/ppmsca.13398/', 'title': 'Lassen Volcanic National Park, Ranger Naturalist Service'}\n",
      "{'image': '/static/portals/free-to-use/public-domain/travel-posters/13400u.jpg', 'link': '/resource/ppmsca.13400/', 'title': 'Zion National Park, Ranger Naturalist Service'}\n",
      "{'image': '/static/portals/free-to-use/public-domain/travel-posters/04892u.jpg', 'link': '/resource/ppmsca.04892/', 'title': 'Just one long step to Sea Cliff'}\n",
      "{'image': '/static/portals/free-to-use/public-domain/travel-posters/3g04243u.jpg', 'link': '/resource/cph.3g04243/', 'title': 'See America / Dux.'}\n"
     ]
    }
   ],
   "source": [
    "for k in collection_json['content']['set']['items']:\n",
    "    print(k)"
   ]
  },
  {
   "cell_type": "code",
   "execution_count": 9,
   "id": "92350a24",
   "metadata": {},
   "outputs": [
    {
     "data": {
      "text/plain": [
       "21"
      ]
     },
     "execution_count": 9,
     "metadata": {},
     "output_type": "execute_result"
    }
   ],
   "source": [
    "len(collection_json['content']['set']['items'])"
   ]
  },
  {
   "cell_type": "code",
   "execution_count": 10,
   "id": "557d0ee2",
   "metadata": {},
   "outputs": [
    {
     "data": {
      "text/plain": [
       "dict_keys(['image', 'link', 'title'])"
      ]
     },
     "execution_count": 10,
     "metadata": {},
     "output_type": "execute_result"
    }
   ],
   "source": [
    "collection_json['content']['set']['items'][0].keys()"
   ]
  },
  {
   "cell_type": "code",
   "execution_count": 11,
   "id": "f3dfa45e-27a2-4485-a341-2f3263dffb22",
   "metadata": {},
   "outputs": [
    {
     "name": "stdout",
     "output_type": "stream",
     "text": [
      "wrote data/travel_set_list.csv\n"
     ]
    }
   ],
   "source": [
    "travel_set_list = os.path.join('data','travel_set_list.csv')\n",
    "headers = ['image','link','title']\n",
    "\n",
    "with open(travel_set_list, 'w', encoding='utf-8', newline='') as f:\n",
    "    writer = csv.DictWriter(f, fieldnames=headers)\n",
    "    writer.writeheader()\n",
    "    for item in collection_json['content']['set']['items']:\n",
    "        \n",
    "        # clean up errant spaces in the title fields\n",
    "        item['title'] = item['title'].rstrip()\n",
    "        writer.writerow(item)\n",
    "    print('wrote',travel_set_list)"
   ]
  },
  {
   "cell_type": "markdown",
   "id": "cfd71176-6fce-4209-9337-55fa7206c129",
   "metadata": {},
   "source": [
    "# Get metadata for individual items "
   ]
  },
  {
   "cell_type": "code",
   "execution_count": 12,
   "id": "44259696-74f1-4b8f-8bfd-6f1bc01c8726",
   "metadata": {},
   "outputs": [],
   "source": [
    "# update endpoint info\n",
    "endpoint = 'https://www.loc.gov'\n",
    "parameters = {\n",
    "    'fo' : 'json'\n",
    "}"
   ]
  },
  {
   "cell_type": "code",
   "execution_count": 13,
   "id": "5c1d371f",
   "metadata": {},
   "outputs": [
    {
     "name": "stdout",
     "output_type": "stream",
     "text": [
      "created data/ftu_travel_metadata\n"
     ]
    }
   ],
   "source": [
    "# run this cell to confirm that you have a location for the JSON files\n",
    "item_metadata_directory = os.path.join('data','ftu_travel_metadata')\n",
    "\n",
    "if os.path.isdir(item_metadata_directory):\n",
    "    print(item_metadata_directory,'exists')\n",
    "else:\n",
    "    os.mkdir(item_metadata_directory)\n",
    "    print('created',item_metadata_directory)"
   ]
  },
  {
   "cell_type": "code",
   "execution_count": 14,
   "id": "e90cb123-499e-45d9-bc84-586f3245031e",
   "metadata": {},
   "outputs": [
    {
     "name": "stdout",
     "output_type": "stream",
     "text": [
      "requested https://www.loc.gov/resource/ppmsca.13399/?fo=json 200\n",
      "wrote data/ftu_travel_metadata/item_metadata-ppmsca.13399.json\n",
      "requested https://www.loc.gov/resource/ds.06845/?fo=json 200\n",
      "wrote data/ftu_travel_metadata/item_metadata-ds.06845.json\n",
      "requested https://www.loc.gov/resource/ppmsca.13397/?fo=json 200\n",
      "wrote data/ftu_travel_metadata/item_metadata-ppmsca.13397.json\n",
      "requested https://www.loc.gov/resource/cph.3g05158/?fo=json 200\n",
      "wrote data/ftu_travel_metadata/item_metadata-cph.3g05158.json\n",
      "requested https://www.loc.gov/resource/ppmsca.13396/?fo=json 200\n",
      "wrote data/ftu_travel_metadata/item_metadata-ppmsca.13396.json\n",
      "requested https://www.loc.gov/resource/cph.3b48750/?fo=json 200\n",
      "wrote data/ftu_travel_metadata/item_metadata-cph.3b48750.json\n",
      "requested https://www.loc.gov/resource/cph.3b48864/?fo=json 200\n",
      "wrote data/ftu_travel_metadata/item_metadata-cph.3b48864.json\n",
      "requested https://www.loc.gov/resource/cph.3b48718/?fo=json 200\n",
      "wrote data/ftu_travel_metadata/item_metadata-cph.3b48718.json\n",
      "requested https://www.loc.gov/resource/cph.3b48860/?fo=json 200\n",
      "wrote data/ftu_travel_metadata/item_metadata-cph.3b48860.json\n",
      "requested https://www.loc.gov/resource/cph.3b49082/?fo=json 200\n",
      "wrote data/ftu_travel_metadata/item_metadata-cph.3b49082.json\n",
      "requested https://www.loc.gov/resource/cph.3b48733/?fo=json 200\n",
      "wrote data/ftu_travel_metadata/item_metadata-cph.3b48733.json\n",
      "requested https://www.loc.gov/resource/ppmsca.43496/?fo=json 200\n",
      "wrote data/ftu_travel_metadata/item_metadata-ppmsca.43496.json\n",
      "requested https://www.loc.gov/resource/cph.3b48731/?fo=json 200\n",
      "wrote data/ftu_travel_metadata/item_metadata-cph.3b48731.json\n",
      "requested https://www.loc.gov/resource/ds.08068/?fo=json 200\n",
      "wrote data/ftu_travel_metadata/item_metadata-ds.08068.json\n",
      "requested https://www.loc.gov/resource/cph.3f05643/?fo=json 200\n",
      "wrote data/ftu_travel_metadata/item_metadata-cph.3f05643.json\n",
      "requested https://www.loc.gov/resource/cph.3b51486/?fo=json 200\n",
      "wrote data/ftu_travel_metadata/item_metadata-cph.3b51486.json\n",
      "requested https://www.loc.gov/resource/cph.3g02947/?fo=json 200\n",
      "wrote data/ftu_travel_metadata/item_metadata-cph.3g02947.json\n",
      "requested https://www.loc.gov/resource/ppmsca.13398/?fo=json 200\n",
      "wrote data/ftu_travel_metadata/item_metadata-ppmsca.13398.json\n",
      "requested https://www.loc.gov/resource/ppmsca.13400/?fo=json 200\n",
      "wrote data/ftu_travel_metadata/item_metadata-ppmsca.13400.json\n",
      "requested https://www.loc.gov/resource/ppmsca.04892/?fo=json 200\n",
      "wrote data/ftu_travel_metadata/item_metadata-ppmsca.04892.json\n",
      "requested https://www.loc.gov/resource/cph.3g04243/?fo=json 200\n",
      "wrote data/ftu_travel_metadata/item_metadata-cph.3g04243.json\n",
      "--- mini LOG ---\n",
      "items requested: 21\n",
      "errors: 0\n",
      "files written: 21\n"
     ]
    }
   ],
   "source": [
    "item_count = 0\n",
    "error_count = 0\n",
    "file_count = 0\n",
    "\n",
    "data_directory = 'data'\n",
    "item_metadata_directory = 'ftu_travel_metadata'\n",
    "item_metadata_file_start = 'item_metadata'\n",
    "json_suffix = '.json'\n",
    "\n",
    "travel_set_list = os.path.join('data','travel_set_list.csv')\n",
    "\n",
    "with open(travel_set_list, 'r', encoding='utf-8', newline='') as f:\n",
    "    reader = csv.DictReader(f, fieldnames=headers)\n",
    "    for item in reader:\n",
    "        if item['link'] == 'link':\n",
    "            continue\n",
    "        # these resource links could redirect to item pages, but currently don't work\n",
    "        if '?' in item['link']:\n",
    "            resource_ID = item['link']\n",
    "            short_ID = item['link'].split('/')[2]\n",
    "            item_metadata = requests.get(endpoint + resource_ID + '&fo=json')\n",
    "            print('requested',item_metadata.url,item_metadata.status_code)\n",
    "            if item_metadata.status_code != 200:\n",
    "                print('requested',item_metadata.url,item_metadata.status_code)\n",
    "                error_count += 1\n",
    "                continue\n",
    "            try:\n",
    "                item_metadata.json()\n",
    "            except: #basically this catches all of the highsmith photos with hhh in the ID\n",
    "                error_count += 1\n",
    "                print('no json found')\n",
    "                continue\n",
    "            fout = os.path.join(data_directory, item_metadata_directory, str(item_metadata_file_start + '-' + short_ID + json_suffix))\n",
    "            with open(fout, 'w', encoding='utf-8') as json_file:\n",
    "                json_file.write(json.dumps(item_metadata.json()['item']))\n",
    "                file_count += 1\n",
    "                print('wrote', fout)\n",
    "            item_count += 1\n",
    "        else:\n",
    "            resource_ID = item['link']\n",
    "            short_ID = item['link'].split('/')[2]\n",
    "            item_metadata = requests.get(endpoint + resource_ID, params=parameters)\n",
    "            print('requested',item_metadata.url,item_metadata.status_code)\n",
    "            if item_metadata.status_code != 200:\n",
    "                print('requested',item_metadata.url,item_metadata.status_code)\n",
    "                error_count += 1\n",
    "                continue\n",
    "            try:\n",
    "                item_metadata.json()\n",
    "            except:\n",
    "                error_count += 1\n",
    "                print('no json found')\n",
    "                continue\n",
    "            fout = os.path.join(data_directory, item_metadata_directory, str(item_metadata_file_start + '-' + short_ID + json_suffix))\n",
    "            with open(fout, 'w', encoding='utf-8') as json_file:\n",
    "                json_file.write(json.dumps(item_metadata.json()['item']))\n",
    "                file_count += 1\n",
    "                print('wrote', fout)\n",
    "            item_count += 1\n",
    "\n",
    "print('--- mini LOG ---')\n",
    "print('items requested:',item_count)\n",
    "print('errors:',error_count)\n",
    "print('files written:',file_count)"
   ]
  },
  {
   "cell_type": "markdown",
   "id": "8c45a3bb-b954-44d9-9446-97a049c9b974",
   "metadata": {},
   "source": [
    "# Transformation Part 1: Testing"
   ]
  },
  {
   "cell_type": "code",
   "execution_count": 15,
   "id": "a899bee6-bed9-4240-85ed-1c946110f2f6",
   "metadata": {},
   "outputs": [
    {
     "name": "stdout",
     "output_type": "stream",
     "text": [
      "/Users/emmaheck/Documents/umich/courses/SI676/networked-services-labs-2023-main\n"
     ]
    }
   ],
   "source": [
    "current_loc = os.getcwd()\n",
    "\n",
    "print(current_loc)"
   ]
  },
  {
   "cell_type": "code",
   "execution_count": 16,
   "id": "9e195bef-fe55-47e7-a1af-5ecf0c0f324a",
   "metadata": {},
   "outputs": [
    {
     "name": "stdout",
     "output_type": "stream",
     "text": [
      "data/ftu_travel_metadata\n"
     ]
    }
   ],
   "source": [
    "metadata_file_path = os.path.join('data','ftu_travel_metadata')\n",
    "\n",
    "print(metadata_file_path)"
   ]
  },
  {
   "cell_type": "markdown",
   "id": "99c6363a",
   "metadata": {},
   "source": [
    "The next cell uses the `glob` library, which supports the use of file path expanders\n",
    "to look for patterns in file paths. In this case, the previous item metadata exraction\n",
    "wrote files that had the pattern `item_metadata-[item-identifier].json`. \n",
    "So, to match any pattern for the `item-identifier` section, `glob` allows\n",
    "the use of the `*` (asterisk) character to match any pattern:"
   ]
  },
  {
   "cell_type": "code",
   "execution_count": 17,
   "id": "6ff4a730-4208-4e63-8531-4b6da696ec0e",
   "metadata": {
    "tags": []
   },
   "outputs": [
    {
     "name": "stdout",
     "output_type": "stream",
     "text": [
      "data/ftu_travel_metadata/item_metadata-ppmsca.13400.json\n",
      "data/ftu_travel_metadata/item_metadata-ppmsca.13396.json\n",
      "data/ftu_travel_metadata/item_metadata-cph.3b48718.json\n",
      "data/ftu_travel_metadata/item_metadata-ppmsca.43496.json\n",
      "data/ftu_travel_metadata/item_metadata-ds.08068.json\n",
      "data/ftu_travel_metadata/item_metadata-cph.3g04243.json\n",
      "data/ftu_travel_metadata/item_metadata-cph.3b49082.json\n",
      "data/ftu_travel_metadata/item_metadata-ppmsca.13397.json\n",
      "data/ftu_travel_metadata/item_metadata-cph.3f05643.json\n",
      "data/ftu_travel_metadata/item_metadata-cph.3b48860.json\n",
      "data/ftu_travel_metadata/item_metadata-cph.3b48733.json\n",
      "data/ftu_travel_metadata/item_metadata-cph.3g05158.json\n",
      "data/ftu_travel_metadata/item_metadata-cph.3b48750.json\n",
      "data/ftu_travel_metadata/item_metadata-cph.3b48731.json\n",
      "data/ftu_travel_metadata/item_metadata-ppmsca.04892.json\n",
      "data/ftu_travel_metadata/item_metadata-ppmsca.13398.json\n",
      "data/ftu_travel_metadata/item_metadata-cph.3b48864.json\n",
      "data/ftu_travel_metadata/item_metadata-cph.3g02947.json\n",
      "data/ftu_travel_metadata/item_metadata-cph.3b51486.json\n",
      "data/ftu_travel_metadata/item_metadata-ppmsca.13399.json\n",
      "data/ftu_travel_metadata/item_metadata-ds.06845.json\n",
      "found 21\n"
     ]
    }
   ],
   "source": [
    "file_count = 0\n",
    "\n",
    "for file in glob.glob('data/ftu_travel_metadata/item_metadata-*.json'):\n",
    "    file_count += 1\n",
    "    print(file)\n",
    "    \n",
    "print('found',file_count)"
   ]
  },
  {
   "cell_type": "code",
   "execution_count": 18,
   "id": "a8178914-945e-4bc9-a890-b717db15af99",
   "metadata": {},
   "outputs": [],
   "source": [
    "list_of_item_metadata_files = list() \n",
    "for file in glob.glob('data/ftu_travel_metadata/item_metadata-*.json'):\n",
    "    list_of_item_metadata_files.append(file)"
   ]
  },
  {
   "cell_type": "code",
   "execution_count": 19,
   "id": "dded9141-1613-48db-a74c-ddafd86eb247",
   "metadata": {},
   "outputs": [
    {
     "data": {
      "text/plain": [
       "21"
      ]
     },
     "execution_count": 19,
     "metadata": {},
     "output_type": "execute_result"
    }
   ],
   "source": [
    "len(list_of_item_metadata_files)"
   ]
  },
  {
   "cell_type": "code",
   "execution_count": 20,
   "id": "8bdb38fc-23d5-4b1d-8250-478f21deff56",
   "metadata": {
    "tags": []
   },
   "outputs": [
    {
     "name": "stdout",
     "output_type": "stream",
     "text": [
      "data/ftu_travel_metadata/item_metadata-cph.3b48718.json\n",
      "data/ftu_travel_metadata/item_metadata-cph.3b48731.json\n",
      "data/ftu_travel_metadata/item_metadata-cph.3b48733.json\n",
      "data/ftu_travel_metadata/item_metadata-cph.3b48750.json\n",
      "data/ftu_travel_metadata/item_metadata-cph.3b48860.json\n",
      "data/ftu_travel_metadata/item_metadata-cph.3b48864.json\n",
      "data/ftu_travel_metadata/item_metadata-cph.3b49082.json\n",
      "data/ftu_travel_metadata/item_metadata-cph.3b51486.json\n",
      "data/ftu_travel_metadata/item_metadata-cph.3f05643.json\n",
      "data/ftu_travel_metadata/item_metadata-cph.3g02947.json\n",
      "data/ftu_travel_metadata/item_metadata-cph.3g04243.json\n",
      "data/ftu_travel_metadata/item_metadata-cph.3g05158.json\n",
      "data/ftu_travel_metadata/item_metadata-ds.06845.json\n",
      "data/ftu_travel_metadata/item_metadata-ds.08068.json\n",
      "data/ftu_travel_metadata/item_metadata-ppmsca.04892.json\n",
      "data/ftu_travel_metadata/item_metadata-ppmsca.13396.json\n",
      "data/ftu_travel_metadata/item_metadata-ppmsca.13397.json\n",
      "data/ftu_travel_metadata/item_metadata-ppmsca.13398.json\n",
      "data/ftu_travel_metadata/item_metadata-ppmsca.13399.json\n",
      "data/ftu_travel_metadata/item_metadata-ppmsca.13400.json\n",
      "data/ftu_travel_metadata/item_metadata-ppmsca.43496.json\n"
     ]
    }
   ],
   "source": [
    "# quick duplicate check\n",
    "list_of_item_metadata_files.sort()\n",
    "\n",
    "for file in list_of_item_metadata_files:\n",
    "    print(file)"
   ]
  },
  {
   "cell_type": "code",
   "execution_count": 21,
   "id": "2b96909e-2cce-4ca6-95b9-7d1c03c74c11",
   "metadata": {},
   "outputs": [
    {
     "name": "stdout",
     "output_type": "stream",
     "text": [
      "file: data/ftu_travel_metadata/item_metadata-cph.3b48718.json \n",
      "\n",
      "_version_ : 1754109026501656576\n",
      "access_restricted : False\n",
      "aka : ['http://www.loc.gov/pictures/collection/wpapos/item/98507272/', 'https://hdl.loc.gov/loc.pnp/cph.3b48718', 'http://www.loc.gov/item/98507272/', 'http://www.loc.gov/pictures/item/98507272/', 'https://hdl.loc.gov/loc.pnp/cph.3f05191', 'http://www.loc.gov/resource/cph.3f05191/', 'http://www.loc.gov/resource/cph.3b48718/', 'http://lccn.loc.gov/98507272']\n",
      "call_number : POS - WPA - ILL .G36, no. 2 (B size) [P&P]\n",
      "campaigns : []\n",
      "contributor_names : [\"Federal Writers' Project, sponsor\"]\n",
      "contributors : [{\"federal writers' project\": 'https://www.loc.gov/search/?fa=contributor:federal+writers%27+project&fo=json'}]\n",
      "control_number : \n",
      "created : 2016-04-20 08:08:56\n",
      "created_published : ['Chi[cago], Ill., : WPA Federal Art Project, [between 1936 and 1940]']\n",
      "created_published_date : [between 1936 and 1940]\n",
      "date : 1936-01-01\n",
      "description : ['1 print on board (poster) : silkscreen, color. | Poster for Federal Writers\\' Project advertising \"American Guide Series\" volume on Illinois, showing outline of map of the state.']\n",
      "digital_id : ['cph 3f05191 //hdl.loc.gov/loc.pnp/cph.3f05191', 'cph 3b48718 //hdl.loc.gov/loc.pnp/cph.3b48718']\n",
      "digitized : True\n",
      "display_offsite : True\n",
      "extract_timestamp : 2021-09-01T23:01:15.957Z\n",
      "extract_urls : ['http://www.loc.gov/pictures/collection/wpapos/item/98507272/#wpapos', 'http://lccn.loc.gov/98507272#catalog-split-08']\n",
      "format : [{'photo, print, drawing': 'https://www.loc.gov/search/?fa=original_format:photo,+print,+drawing&fo=json'}]\n",
      "format_headings : ['Screen prints--Color--1930-1940.', 'Travel posters--1930-1940.']\n",
      "genre : ['Travel posters--1930-1940', 'Screen prints--Color--1930-1940']\n",
      "group : ['wpapos', 'catalog-split-08', 'catalog', 'wpa-posters', 'main-catalog-split-08', 'main-catalog']\n",
      "hassegments : False\n",
      "id : http://www.loc.gov/item/98507272/\n",
      "image_url : ['https://tile.loc.gov/storage-services/service/pnp/cph/3f00000/3f05000/3f05100/3f05191_150px.jpg#h=150&w=104', 'https://tile.loc.gov/storage-services/service/pnp/cph/3f00000/3f05000/3f05100/3f05191t.gif#h=150&w=104', 'https://tile.loc.gov/storage-services/service/pnp/cph/3f00000/3f05000/3f05100/3f05191r.jpg#h=640&w=444', 'https://tile.loc.gov/storage-services/service/pnp/cph/3f00000/3f05000/3f05100/3f05191v.jpg#h=1024&w=711']\n",
      "index : 1\n",
      "item : {'call_number': 'POS - WPA - ILL .G36, no. 2 (B size) [P&P]', 'contributor_names': [\"Federal Writers' Project, sponsor \"], 'contributors': [\"Federal Writers' Project, sponsor.\"], 'control_number': '98507272', 'created': '2016-04-20 08:08:56', 'created_published': 'Chi[cago], Ill., : WPA Federal Art Project, [between 1936 and 1940]', 'created_published_date': '[between 1936 and 1940]', 'creators': [{'link': '//www.loc.gov/pictures/related/?fi=name&q=Federal%20Writers%27%20Project&co=wpapos', 'role': 'sponsor', 'title': \"Federal Writers' Project\"}], 'date': '[between 1936 and 1940]', 'digital_id': ['cph 3f05191 //hdl.loc.gov/loc.pnp/cph.3f05191', 'cph 3b48718 //hdl.loc.gov/loc.pnp/cph.3b48718'], 'display_offsite': True, 'format': ['still image'], 'formats': [{'link': '//www.loc.gov/pictures/related/?fi=format&q=Screen%20prints--Color--1930-1940.&co=wpapos', 'title': 'Screen prints--Color--1930-1940.'}, {'link': '//www.loc.gov/pictures/related/?fi=format&q=Travel%20posters--1930-1940.&co=wpapos', 'title': 'Travel posters--1930-1940.'}], 'genre': ['Travel posters--1930-1940', 'Screen prints--Color--1930-1940'], 'id': '98507272', 'language': ['eng'], 'link': '//www.loc.gov/pictures/item/98507272/', 'location': ['Illinois'], 'marc': '//www.loc.gov/pictures/item/98507272/marc/', 'medium': ['1 print on board (poster) : silkscreen, color.'], 'medium_brief': '1 print on board (poster) :', 'mediums': ['1 print on board (poster) : silkscreen, color.'], 'modified': '2016-04-20 08:08:57', 'notes': ['Date stamped on verso: Feb 16 1940.', 'Work Projects Administration Poster Collection (Library of Congress).', 'Sponsored by Gov. Henry Horner and the Federal Writers Project of Illinois.', 'Posters of the WPA / Christopher DeNoon. Los Angeles : Wheatly Press, c1987, no. 254'], 'number_former_id': ['https://www.loc.gov/item/98507272', 'https://www.loc.gov/item/11714507'], 'place': [{'latitude': '', 'link': '//www.loc.gov/pictures/related/?fi=place&q=Illinois&co=wpapos', 'longitude': '', 'title': 'Illinois'}, {'latitude': '', 'link': '//www.loc.gov/pictures/related/?fi=place&q=Illinois&co=wpapos', 'longitude': '', 'title': 'Illinois'}], 'repository': 'Library of Congress Prints and Photographs Division Washington, D.C. 20540 USA', 'reproduction_number': 'LC-USZC2-5191 (color film copy slide)\\nLC-USZC2-818 (color film copy slide)', 'resource_links': ['//hdl.loc.gov/loc.pnp/cph.3f05191', '//hdl.loc.gov/loc.pnp/cph.3b48718'], 'rights_advisory': 'No known restrictions on publication.', 'rights_information': 'No known restrictions on publication.', 'service_low': 'https://tile.loc.gov/storage-services/service/pnp/cph/3f00000/3f05000/3f05100/3f05191_150px.jpg', 'service_medium': 'https://tile.loc.gov/storage-services/service/pnp/cph/3f00000/3f05000/3f05100/3f05191r.jpg', 'sort_date': '1936', 'source_created': '1998-05-05 00:00:00', 'source_modified': '2007-11-05 11:07:58', 'stmt_of_responsibility': 'galic.', 'subject_headings': ['American guide series.', 'Tourism--Illinois--1930-1940.', 'Books--1930-1940.', 'Illinois--1930-1940.', 'United States--Illinois.', 'Illinois'], 'subjects': ['American guide series', 'Tourism--Illinois--1930-1940', 'Books--1930-1940', 'Illinois--1930-1940', 'United States--Illinois'], 'summary': 'Poster for Federal Writers\\' Project advertising \"American Guide Series\" volume on Illinois, showing outline of map of the state.', 'thumb_gallery': 'https://tile.loc.gov/storage-services/service/pnp/cph/3f00000/3f05000/3f05100/3f05191_150px.jpg', 'title': 'Illinois: A descriptive and historical guide'}\n",
      "language : ['english']\n",
      "languages : [{'english': 'https://www.loc.gov/search/?fa=language:english&fo=json'}]\n",
      "latlong : [42.0480818, -88.3142463]\n",
      "library_of_congress_control_number : 98507272\n",
      "link : //www.loc.gov/pictures/item/98507272/\n",
      "location : ['united states', 'illinois']\n",
      "location_country : ['united states']\n",
      "location_state : ['illinois']\n",
      "location_str : Illinois\n",
      "locations : [{'illinois': 'https://www.loc.gov/search/?fa=location:illinois&fo=json'}, {'united states': 'https://www.loc.gov/search/?fa=location:united+states&fo=json'}]\n",
      "locations_country : [{'united states': 'https://www.loc.gov/search/?fa=location_country:united+states&fo=json'}]\n",
      "locations_state : [{'illinois': 'https://www.loc.gov/search/?fa=location_state:illinois&fo=json'}]\n",
      "locations_str : [{'Illinois': 'https://www.loc.gov/search/?fa=location_str:Illinois&fo=json'}]\n",
      "lonlat : [-88.3142463, 42.0480818]\n",
      "marc : //www.loc.gov/pictures/item/98507272/marc/\n",
      "medium : ['1 print on board (poster) : silkscreen, color.']\n",
      "medium_brief : 1 print on board (poster) :\n",
      "mime_type : ['image/gif', 'image/jpg', 'image/tif']\n",
      "modified : 2016-04-20 08:08:57\n",
      "notes : ['Date stamped on verso: Feb 16 1940.', 'Work Projects Administration Poster Collection (Library of Congress).', 'Sponsored by Gov. Henry Horner and the Federal Writers Project of Illinois.', 'Posters of the WPA / Christopher DeNoon. Los Angeles : Wheatly Press, c1987, no. 254']\n",
      "number : ['98507272', 'http://www.loc.gov/item/98507272', '2007-11-05t11:07:58', 'http://www.loc.gov/item/11714507']\n",
      "number_former_id : ['http://www.loc.gov/item/98507272', 'http://www.loc.gov/item/11714507']\n",
      "number_lccn : ['98507272']\n",
      "number_source_modified : ['2007-11-05t11:07:58']\n",
      "online_format : ['image']\n",
      "original_format : ['photo, print, drawing']\n",
      "other_formats : [{'label': 'MARCXML Record', 'link': 'https://lccn.loc.gov/98507272/marcxml'}, {'label': 'MODS Record', 'link': 'https://lccn.loc.gov/98507272/mods'}, {'label': 'Dublin Core Record', 'link': 'https://lccn.loc.gov/98507272/dc'}]\n",
      "other_title : []\n",
      "partof : [{'count': 932, 'title': 'by the people, for the people: posters from the wpa, 1936-1943', 'url': 'https://www.loc.gov/search/?fa=partof:by+the+people,+for+the+people:+posters+from+the+wpa,+1936-1943&fo=json'}, {'count': 947, 'title': 'posters: wpa posters', 'url': 'https://www.loc.gov/collections/works-progress-administration-posters/?fo=json'}, {'count': 503429, 'title': 'american memory', 'url': 'https://www.loc.gov/search/?fa=partof:american+memory&fo=json'}, {'count': 982751, 'title': 'prints & photographs online catalog (library of congress)', 'url': 'https://www.loc.gov/search/?fa=partof:prints+%26+photographs+online+catalog+%28library+of+congress%29&fo=json'}, {'count': 1049498, 'title': 'prints and photographs division', 'url': 'https://www.loc.gov/search/?fa=partof:prints+and+photographs+division&fo=json'}, {'count': 1496867, 'title': 'catalog', 'url': 'https://www.loc.gov/search/?fa=partof:catalog&fo=json'}]\n",
      "place : [{'latitude': '', 'link': '//www.loc.gov/pictures/related/?fi=place&q=Illinois&co=wpapos', 'longitude': '', 'title': 'Illinois'}, {'latitude': '', 'link': '//www.loc.gov/pictures/related/?fi=place&q=Illinois&co=wpapos', 'longitude': '', 'title': 'Illinois'}]\n",
      "related : {'neighbors': '//www.loc.gov/pictures/related/?&co=wpapos&pk=98507272&st=gallery&sb=call_number#focus'}\n",
      "repository : ['Library of Congress Prints and Photographs Division Washington, D.C. 20540 USA']\n",
      "reproduction_number : LC-USZC2-5191 (color film copy slide)\n",
      "LC-USZC2-818 (color film copy slide)\n",
      "reproductions : []\n",
      "resource_links : ['//hdl.loc.gov/loc.pnp/cph.3f05191', '//hdl.loc.gov/loc.pnp/cph.3b48718']\n",
      "resources : [{'caption': 'color film copy slide', 'files': 1, 'image': 'https://tile.loc.gov/storage-services/service/pnp/cph/3f00000/3f05000/3f05100/3f05191_150px.jpg', 'url': 'https://www.loc.gov/resource/cph.3f05191/'}, {'caption': 'color film copy slide', 'files': 1, 'image': 'https://tile.loc.gov/storage-services/service/pnp/cph/3b40000/3b48000/3b48700/3b48718_150px.jpg', 'url': 'https://www.loc.gov/resource/cph.3b48718/'}]\n",
      "rights : ['<p>The Library of Congress does not&nbsp;own rights to material  in its collections. Therefore, it does not license or charge permission fees  for use of such material and cannot grant or deny permission to publish or  otherwise distribute the material. </p>\\n<p>Ultimately, it is the researcher\\'s obligation to assess copyright or other use restrictions and  obtain permission from third parties when necessary before publishing or  otherwise distributing materials found in the Library\\'s collections. </p>\\n<p>For information about reproducing,  publishing, and citing material from this collection, as well as access to the  original items, see: <a href=\"//www.loc.gov/rr/print/res/217_wpa.html\">Work Projects Administration Posters - Rights and Restrictions Information</a> </p>\\n \\n']\n",
      "rights_advisory : No known restrictions on publication.\n",
      "rights_information : No known restrictions on publication.\n",
      "score : 19.428608\n",
      "shard : 00\n",
      "shelf_id : POS - WPA - ILL .G36, no. 2 (B size) [P&P]\n",
      "site : ['pictures', 'catalog']\n",
      "sort_date : 1936\n",
      "source_created : 1998-05-05 00:00:00\n",
      "source_modified : 2007-11-05 11:07:58\n",
      "stmt_of_responsibility : galic.\n",
      "subject : ['screen prints', 'american guide series', 'travel posters', 'illinois', 'united states', 'color', 'books', 'tourism']\n",
      "subject_headings : ['American guide series', 'Tourism--Illinois--1930-1940', 'Books--1930-1940', 'Illinois--1930-1940', 'United States--Illinois']\n",
      "subjects : [{'american guide series': 'https://www.loc.gov/search/?fa=subject:american+guide+series&fo=json'}, {'books': 'https://www.loc.gov/search/?fa=subject:books&fo=json'}, {'color': 'https://www.loc.gov/search/?fa=subject:color&fo=json'}, {'illinois': 'https://www.loc.gov/search/?fa=subject:illinois&fo=json'}, {'screen prints': 'https://www.loc.gov/search/?fa=subject:screen+prints&fo=json'}, {'tourism': 'https://www.loc.gov/search/?fa=subject:tourism&fo=json'}, {'travel posters': 'https://www.loc.gov/search/?fa=subject:travel+posters&fo=json'}, {'united states': 'https://www.loc.gov/search/?fa=subject:united+states&fo=json'}]\n",
      "summary : Poster for Federal Writers' Project advertising \"American Guide Series\" volume on Illinois, showing outline of map of the state.\n",
      "thumb_gallery : https://tile.loc.gov/storage-services/service/pnp/cph/3f00000/3f05000/3f05100/3f05191_150px.jpg\n",
      "timestamp : 2023-01-04T16:12:06.699Z\n",
      "title : Illinois: A descriptive and historical guide / galic.\n",
      "type : ['photo, print, drawing']\n",
      "unrestricted : True\n",
      "url : https://www.loc.gov/item/98507272/\n"
     ]
    }
   ],
   "source": [
    "# try first with one file, can you open the json, can you see what elements are in the json?\n",
    "with open(list_of_item_metadata_files[0], 'r', encoding='utf-8') as item:\n",
    "    # what are we looking at?\n",
    "    print('file:',list_of_item_metadata_files[0],'\\n')\n",
    "    \n",
    "    # load the item data\n",
    "    item_data = json.load(item)\n",
    "    \n",
    "    for element in item_data.keys():\n",
    "        print(element,':',item_data[element])"
   ]
  },
  {
   "cell_type": "markdown",
   "id": "64e1b077",
   "metadata": {},
   "source": [
    "Look around in the dictionary a bit more:"
   ]
  },
  {
   "cell_type": "code",
   "execution_count": 22,
   "id": "cc1bdf07",
   "metadata": {},
   "outputs": [
    {
     "data": {
      "text/plain": [
       "dict_keys(['_version_', 'access_restricted', 'aka', 'call_number', 'campaigns', 'contributor_names', 'contributors', 'control_number', 'created', 'created_published', 'created_published_date', 'date', 'description', 'digital_id', 'digitized', 'display_offsite', 'extract_timestamp', 'extract_urls', 'format', 'format_headings', 'genre', 'group', 'hassegments', 'id', 'image_url', 'index', 'item', 'language', 'languages', 'latlong', 'library_of_congress_control_number', 'link', 'location', 'location_country', 'location_state', 'location_str', 'locations', 'locations_country', 'locations_state', 'locations_str', 'lonlat', 'marc', 'medium', 'medium_brief', 'mime_type', 'modified', 'notes', 'number', 'number_former_id', 'number_lccn', 'number_source_modified', 'online_format', 'original_format', 'other_formats', 'other_title', 'partof', 'place', 'related', 'repository', 'reproduction_number', 'reproductions', 'resource_links', 'resources', 'rights', 'rights_advisory', 'rights_information', 'score', 'shard', 'shelf_id', 'site', 'sort_date', 'source_created', 'source_modified', 'stmt_of_responsibility', 'subject', 'subject_headings', 'subjects', 'summary', 'thumb_gallery', 'timestamp', 'title', 'type', 'unrestricted', 'url'])"
      ]
     },
     "execution_count": 22,
     "metadata": {},
     "output_type": "execute_result"
    }
   ],
   "source": [
    "item_data.keys()"
   ]
  },
  {
   "cell_type": "code",
   "execution_count": 23,
   "id": "aecc7258",
   "metadata": {},
   "outputs": [
    {
     "name": "stdout",
     "output_type": "stream",
     "text": [
      "\n",
      "date: 1936-01-01 <class 'str'>\n",
      "\n",
      "format: {'photo, print, drawing': 'https://www.loc.gov/search/?fa=original_format:photo,+print,+drawing&fo=json'} <class 'list'>\n"
     ]
    }
   ],
   "source": [
    "    # can you get the date?\n",
    "    print('\\ndate:',item_data['date'], type(item_data['date']))\n",
    "    # can you get the format?\n",
    "    print('\\nformat:',item_data['format'][0], type(item_data['format']))"
   ]
  },
  {
   "cell_type": "code",
   "execution_count": 24,
   "id": "b20cbb86-d872-4e38-8673-0e4e6e2c06e2",
   "metadata": {},
   "outputs": [
    {
     "name": "stdout",
     "output_type": "stream",
     "text": [
      "created row dictionary: {'source_file': 'data/ftu_travel_metadata/item_metadata-ppmsca.43496.json', 'item_id': '98507272', 'title': 'Illinois: A descriptive and historical guide / galic.', 'date': '1936-01-01', 'source_url': 'https://www.loc.gov/item/98507272/', 'phys_format': {'photo, print, drawing': 'https://www.loc.gov/search/?fa=original_format:photo,+print,+drawing&fo=json'}, 'dig_format': 'image', 'rights': 'No known restrictions on publication.'}\n",
      "wrote travel_items_data.csv\n"
     ]
    }
   ],
   "source": [
    "# set up the containers to create the csv of all the item fields\n",
    "# file for csv to read out\n",
    "travel_info_csv = 'travel_items_data.csv'\n",
    "\n",
    "# set up a list for the columns in your csv; \n",
    "# your goal should be to automate this, but . . . \n",
    "# it works for demonstration as you set up the crosswalk\n",
    "headers = ['source_file', 'item_id', 'title', 'date', 'source_url', 'phys_format', 'dig_format', 'rights']\n",
    "\n",
    "# try first with one file\n",
    "with open(list_of_item_metadata_files[0], 'r', encoding='utf-8') as data:\n",
    "    # load the item data\n",
    "    item_data = json.load(data)\n",
    "    \n",
    "    # extract the data you want\n",
    "    # for checking purposes, add in the source of the info\n",
    "    source_file = str(file)\n",
    "    # make sure there's some unique and stable identifier\n",
    "    try:\n",
    "        item_id = item_data['library_of_congress_control_number']\n",
    "    except:\n",
    "        item_id = item_data['url'].split('/')[-2]\n",
    "    title = item_data['title']\n",
    "    date = item_data['date']\n",
    "    source_url = item_data['url']\n",
    "    try:\n",
    "        phys_format = item_data['format'][0]\n",
    "    except:\n",
    "        phys_format = 'Not found'\n",
    "    try:\n",
    "        dig_format = item_data['online_format'][0]\n",
    "    except:\n",
    "        dig_format = 'Not found'\n",
    "    mime_type = item_data['mime_type']\n",
    "    try:\n",
    "        rights = item_data['rights_information']\n",
    "    except:\n",
    "        rights = 'Undetermined'\n",
    "\n",
    "\n",
    "    # dictionary for the rows\n",
    "    row_dict = dict()\n",
    "    \n",
    "    # look for the item metadata, assign it to the dictionary; \n",
    "    # start with some basic elements likely (already enumerated in the headers list) :\n",
    "    # source file\n",
    "    row_dict['source_file'] = source_file\n",
    "    # identifier\n",
    "    row_dict['item_id'] = item_id\n",
    "    # title\n",
    "    row_dict['title'] = title\n",
    "    # date\n",
    "    row_dict['date'] = date\n",
    "    # link\n",
    "    row_dict['source_url'] = source_url\n",
    "    # format\n",
    "    row_dict['phys_format'] = phys_format\n",
    "    # digital format\n",
    "    row_dict['dig_format'] = dig_format\n",
    "    #rights\n",
    "    row_dict['rights'] = rights \n",
    "    print('created row dictionary:',row_dict)\n",
    "\n",
    "    # write to the csv\n",
    "    with open(travel_info_csv, 'w', encoding='utf-8') as fout:\n",
    "        writer = csv.DictWriter(fout, fieldnames=headers)\n",
    "        writer.writeheader()\n",
    "        writer.writerow(row_dict)\n",
    "        print('wrote',travel_info_csv)"
   ]
  },
  {
   "cell_type": "markdown",
   "id": "8db1d9c5-4ec4-45e2-b9a0-38ebdd6cb812",
   "metadata": {},
   "source": [
    "You're now developing the structure of the CSV file that will import items into your Omeka S site. The CSV import module supports the loading of item files via a URL. This provides the location of a file (in this case, an image), which Omeka will copy into its database and attach to your item. This means that it isn't necessary to upload individual files after or during metadata creation. \n",
    "\n",
    "To allow this, you need to find a direct url to a good image file for the item. There are multiple options, and the code below demonstrates looking for the url to a medium-sized image of an item:"
   ]
  },
  {
   "cell_type": "code",
   "execution_count": 25,
   "id": "e3b57056-6708-488f-a196-3a69f477cf4b",
   "metadata": {},
   "outputs": [
    {
     "name": "stdout",
     "output_type": "stream",
     "text": [
      "https://tile.loc.gov/storage-services/service/pnp/cph/3f00000/3f05000/3f05100/3f05191v.jpg#h=1024&w=711\n"
     ]
    }
   ],
   "source": [
    "travel_info_csv = 'travel_items_data.csv'\n",
    "\n",
    "# set up a list for the columns in your csv; in future, this should be more automated but this works for now as you set up the crosswalk\n",
    "headers = ['source_file', 'item_id', 'title', 'date', 'source_url', 'phys_format', 'dig_format', 'rights']\n",
    "\n",
    "# try first with one file\n",
    "with open(list_of_item_metadata_files[0], 'r', encoding='utf-8') as data:\n",
    "    # load the item data\n",
    "    item_data = json.load(data)\n",
    "    \n",
    "    print(item_data['image_url'][3])"
   ]
  },
  {
   "cell_type": "markdown",
   "id": "1ec775d7-ab10-45c3-88ad-40706c100967",
   "metadata": {},
   "source": [
    "# Transformation Part 2: Write your CSV\n",
    "\n",
    "The goal of this final step is to create a CSV file, which will be possible to import into your Omeka site. It may seem like it's taken a long time to get to this point... but remember, when this works you will be importing around 60 items into the site at one time, so if you can get all of this to work for an even larger set of materials, you will be saving quite a lot of time in the future when you need to import items. Even if you were to collect the items piecemeal, which would need a different workflow than illustrated here, you can accomplish similar goals by recording metadata for each item consistently and in a spreadsheet, which you can then use to import the items in batch.\n",
    "\n",
    "So now that your transformation script is tested, the goal is to extend this to the whole set by looping through each of the desired JSON files:"
   ]
  },
  {
   "cell_type": "code",
   "execution_count": 26,
   "id": "8279cbef-6e98-4537-a013-5feef216d13a",
   "metadata": {},
   "outputs": [],
   "source": [
    "# for purposes of demonstration, use this block to make sure there isn't already a list file:\n",
    "\n",
    "items_data_file = os.path.join(data_directory, 'travel_items_data.csv')\n",
    "\n",
    "if os.path.isfile(items_data_file):\n",
    "    os.unlink(items_data_file)\n",
    "    print('removed',items_data_file)\n",
    "\n",
    "# clear row_dict\n",
    "row_dict = ()"
   ]
  },
  {
   "cell_type": "code",
   "execution_count": 27,
   "id": "dd445a1a-473f-432b-942b-3cd40fd3cde9",
   "metadata": {},
   "outputs": [
    {
     "name": "stdout",
     "output_type": "stream",
     "text": [
      "2023-12-11\n"
     ]
    }
   ],
   "source": [
    "from datetime import date\n",
    "\n",
    "date_string_for_today = date.today().strftime('%Y-%m-%d') # see https://docs.python.org/3/library/datetime.html#strftime-strptime-behavior\n",
    "\n",
    "print(date_string_for_today)"
   ]
  },
  {
   "cell_type": "code",
   "execution_count": 30,
   "id": "8e6546cb-d74c-46b7-8286-80df234878a8",
   "metadata": {},
   "outputs": [
    {
     "name": "stdout",
     "output_type": "stream",
     "text": [
      "opening data/ftu_travel_metadata/item_metadata-cph.3b48718.json\n",
      "adding 98507272\n",
      "opening data/ftu_travel_metadata/item_metadata-cph.3b48731.json\n",
      "adding 93505613\n",
      "opening data/ftu_travel_metadata/item_metadata-cph.3b48733.json\n",
      "adding 98518589\n",
      "opening data/ftu_travel_metadata/item_metadata-cph.3b48750.json\n",
      "adding 98518516\n",
      "opening data/ftu_travel_metadata/item_metadata-cph.3b48860.json\n",
      "adding 96525136\n",
      "opening data/ftu_travel_metadata/item_metadata-cph.3b48864.json\n",
      "adding 98516742\n",
      "opening data/ftu_travel_metadata/item_metadata-cph.3b49082.json\n",
      "adding 98518752\n",
      "opening data/ftu_travel_metadata/item_metadata-cph.3b51486.json\n",
      "adding 98518753\n",
      "opening data/ftu_travel_metadata/item_metadata-cph.3f05643.json\n",
      "adding 98518608\n",
      "opening data/ftu_travel_metadata/item_metadata-cph.3g02947.json\n",
      "adding 94504463\n",
      "opening data/ftu_travel_metadata/item_metadata-cph.3g04243.json\n",
      "adding 96503125\n",
      "opening data/ftu_travel_metadata/item_metadata-cph.3g05158.json\n",
      "adding 97502889\n",
      "opening data/ftu_travel_metadata/item_metadata-ds.06845.json\n",
      "adding 2011645088\n",
      "opening data/ftu_travel_metadata/item_metadata-ds.08068.json\n",
      "adding 98518614\n",
      "opening data/ftu_travel_metadata/item_metadata-ppmsca.04892.json\n",
      "adding 98514124\n",
      "opening data/ftu_travel_metadata/item_metadata-ppmsca.13396.json\n",
      "adding 2007676130\n",
      "opening data/ftu_travel_metadata/item_metadata-ppmsca.13397.json\n",
      "adding 2007676131\n",
      "opening data/ftu_travel_metadata/item_metadata-ppmsca.13398.json\n",
      "adding 2007676132\n",
      "opening data/ftu_travel_metadata/item_metadata-ppmsca.13399.json\n",
      "adding 2007676133\n",
      "opening data/ftu_travel_metadata/item_metadata-ppmsca.13400.json\n",
      "adding 2007676134\n",
      "opening data/ftu_travel_metadata/item_metadata-ppmsca.43496.json\n",
      "adding 2015646698\n",
      "\n",
      "\n",
      "--- LOG ---\n",
      "wrote data/travel_items_data.csv\n",
      "with 21 items\n",
      "0 errors (info not written)\n"
     ]
    }
   ],
   "source": [
    "# set up the containers to create the csv & counters \n",
    "# file for csv to read out\n",
    "travel_info_csv = os.path.join('data','travel_items_data.csv')\n",
    "file_count = 0\n",
    "items_written = 0\n",
    "error_count = 0\n",
    "\n",
    "# add in a couple of extras for Omeka, including item type and date uploaded\n",
    "\n",
    "# set up a list for the columns in your csv; in future, this should be more automated but this works for now as you set up the crosswalk\n",
    "headers = ['item_type', 'date_uploaded', 'source_file', 'item_id','phys_format', 'dig_format', 'rights', 'image_url', 'title', 'date_created', 'contributor_names']\n",
    "\n",
    "# now, adapt the previous loop to open each file:\n",
    "for file in list_of_item_metadata_files:\n",
    "    file_count += 1\n",
    "    print('opening',file)\n",
    "    with open(file, 'r', encoding='utf-8') as item:\n",
    "        # load the item data\n",
    "        try:\n",
    "            item_data = json.load(item)\n",
    "        except:\n",
    "            print('error loading',file)\n",
    "            error_count += 1\n",
    "            continue\n",
    "\n",
    "        # extract/name the data you want\n",
    "        # item type\n",
    "        item_type = 'Item'\n",
    "        # date uplaoded\n",
    "        date_uploaded = date_string_for_today\n",
    "        # for checking purposes, add in the source of the info\n",
    "        source_file = str(file)\n",
    "        # make sure there's some unique and stable identifier\n",
    "        try:\n",
    "            item_id = item_data['library_of_congress_control_number']\n",
    "        except:\n",
    "            item_id = 'Not found'\n",
    "        try:\n",
    "            phys_format = item_data['format'][0]\n",
    "        except:\n",
    "            phys_format = 'Not found'\n",
    "        try:\n",
    "            dig_format = item_data['online_format'][0]\n",
    "        except:\n",
    "            dig_format = 'Not found'\n",
    "        mime_type = item_data['mime_type']\n",
    "        try:\n",
    "            rights = item_data['rights_information']\n",
    "        except:\n",
    "            rights = 'Undetermined'\n",
    "        try:\n",
    "            image_url = item_data['image_url'][3]\n",
    "        except:\n",
    "            image_url = item_data['image_url'][2]\n",
    "        try: \n",
    "            title = item_data['title']\n",
    "        except:\n",
    "            title = 'Not found'\n",
    "        try:\n",
    "            date_created = item_data['date']\n",
    "        except:\n",
    "            date_created = 'Not found'\n",
    "        try:\n",
    "            contributor_names = item_data['contributor_names']\n",
    "        except:\n",
    "            contributor_names = 'Not found'\n",
    "\n",
    "        # dictionary for the rows\n",
    "        row_dict = dict()\n",
    "\n",
    "        # look for the item metadata, assign it to the dictionary; \n",
    "        # start with some basic elements likely (already enumerated in the headers list) :\n",
    "        # item type\n",
    "        row_dict['item_type'] = item_type\n",
    "        # date uploaded\n",
    "        row_dict['date_uploaded'] = date_uploaded\n",
    "        # source filename\n",
    "        row_dict['source_file'] = source_file\n",
    "        # identifier\n",
    "        row_dict['item_id'] = item_id\n",
    "        row_dict['phys_format'] = phys_format\n",
    "        # digital format\n",
    "        row_dict['dig_format'] = dig_format.capitalize()\n",
    "        #rights\n",
    "        row_dict['rights'] = rights\n",
    "        #image\n",
    "        row_dict['image_url'] = image_url\n",
    "        row_dict['title'] = title\n",
    "        row_dict['date_created'] = date_created\n",
    "        row_dict['contributor_names'] = contributor_names\n",
    "\n",
    "        # write to the csv\n",
    "        with open(travel_info_csv, 'a', encoding='utf-8') as fout:\n",
    "            writer = csv.DictWriter(fout, fieldnames=headers)\n",
    "            if items_written == 0:\n",
    "                writer.writeheader()\n",
    "            writer.writerow(row_dict)\n",
    "            items_written += 1\n",
    "            print('adding',item_id)\n",
    "\n",
    "print('\\n\\n--- LOG ---')\n",
    "print('wrote',travel_info_csv)\n",
    "print('with',items_written,'items')\n",
    "print(error_count,'errors (info not written)')"
   ]
  }
 ],
 "metadata": {
  "kernelspec": {
   "display_name": "Python 3.11.6 64-bit",
   "language": "python",
   "name": "python3"
  },
  "language_info": {
   "codemirror_mode": {
    "name": "ipython",
    "version": 3
   },
   "file_extension": ".py",
   "mimetype": "text/x-python",
   "name": "python",
   "nbconvert_exporter": "python",
   "pygments_lexer": "ipython3",
   "version": "3.11.6"
  },
  "vscode": {
   "interpreter": {
    "hash": "aee8b7b246df8f9039afb4144a1f6fd8d2ca17a180786b69acc140d282b71a49"
   }
  }
 },
 "nbformat": 4,
 "nbformat_minor": 5
}
